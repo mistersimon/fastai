{
 "cells": [
  {
   "cell_type": "markdown",
   "metadata": {},
   "source": [
    "# Statefarm Distracted Driver Solve\n",
    "https://www.kaggle.com/c/state-farm-distracted-driver-detection\n",
    "\n",
    "Using VGG16 model to solve above kaggle competition\n"
   ]
  },
  {
   "cell_type": "code",
   "execution_count": 2,
   "metadata": {},
   "outputs": [
    {
     "name": "stderr",
     "output_type": "stream",
     "text": [
      "Using Theano backend.\n",
      "WARNING (theano.sandbox.cuda): The cuda backend is deprecated and will be removed in the next release (v0.10).  Please switch to the gpuarray backend. You can get more information about how to switch at this URL:\n",
      " https://github.com/Theano/Theano/wiki/Converting-to-the-new-gpu-back-end%28gpuarray%29\n",
      "\n",
      "Using gpu device 0: GeForce GTX 770 (CNMeM is disabled, cuDNN 5110)\n"
     ]
    }
   ],
   "source": [
    "#from utils.py import plots\n",
    "import numpy as np\n",
    "import pandas as pd\n",
    "\n",
    "from vgg16 import VGG_16\n",
    "from utils import *"
   ]
  },
  {
   "cell_type": "code",
   "execution_count": 3,
   "metadata": {
    "collapsed": true
   },
   "outputs": [],
   "source": [
    "%matplotlib inline"
   ]
  },
  {
   "cell_type": "markdown",
   "metadata": {},
   "source": [
    "* c0: safe driving\n",
    "* c1: texting - right\n",
    "* c2: talking on the phone - right\n",
    "* c3: texting - left\n",
    "* c4: talking on the phone - left\n",
    "* c5: operating the radio\n",
    "* c6: drinking\n",
    "* c7: reaching behind\n",
    "* c8: hair and makeup\n",
    "* c9: talking to passenger"
   ]
  },
  {
   "cell_type": "code",
   "execution_count": 11,
   "metadata": {
    "collapsed": true
   },
   "outputs": [],
   "source": [
    "cat =  ['safe driving',\n",
    "        'texting - right',\n",
    "        'talking on the phone - right',\n",
    "        'texting - left',\n",
    "        'talking on the phone - left',\n",
    "        'operating the radio',\n",
    "        'drinking',\n",
    "        'reaching behind',\n",
    "        'hair and makeup',\n",
    "        'talking to passenger']"
   ]
  },
  {
   "cell_type": "code",
   "execution_count": 4,
   "metadata": {},
   "outputs": [
    {
     "name": "stdout",
     "output_type": "stream",
     "text": [
      "./data/distracteddriver/sample/train\n",
      "Found 197 images belonging to 10 classes.\n",
      "./data/distracteddriver/sample/valid\n",
      "Found 19 images belonging to 10 classes.\n",
      "./data/distracteddriver/sample/test\n",
      "Found 100 images belonging to 1 classes.\n"
     ]
    }
   ],
   "source": [
    "epochs_training = 1\n",
    "\n",
    "data_set = './data/distracteddriver/'\n",
    "dir_data = data_set + 'sample/'\n",
    "fname_submission =  data_set +'submission.csv'\n",
    "fname_model =  data_set +'model/weights.h5'\n",
    "\n",
    "model = VGG_16(dir_data, batch_size=24)"
   ]
  },
  {
   "cell_type": "code",
   "execution_count": 5,
   "metadata": {},
   "outputs": [
    {
     "name": "stdout",
     "output_type": "stream",
     "text": [
      "loading trained weights first\n"
     ]
    }
   ],
   "source": [
    "import os.path\n",
    "if os.path.exists(fname_model):\n",
    "    print(\"loading trained weights first\")\n",
    "    model.model.load_weights(fname_model)\n",
    "\n",
    "#model.fit(nb_epoch=epochs_training)\n",
    "model.model.save_weights(fname_model)"
   ]
  },
  {
   "cell_type": "code",
   "execution_count": 5,
   "metadata": {},
   "outputs": [
    {
     "data": {
      "text/plain": [
       "u'/home/docker/fastai'"
      ]
     },
     "execution_count": 5,
     "metadata": {},
     "output_type": "execute_result"
    }
   ],
   "source": [
    "%pwd"
   ]
  },
  {
   "cell_type": "code",
   "execution_count": null,
   "metadata": {
    "collapsed": true
   },
   "outputs": [],
   "source": [
    "\n"
   ]
  },
  {
   "cell_type": "markdown",
   "metadata": {},
   "source": [
    "(imgs, labels) = next(model.gen_train)\n",
    "\n",
    "n = 4\n",
    "imgs = imgs[:4]\n",
    "labels = labels[:4]\n",
    "plots(imgs, titles=labels) #Use utily.py plot function for ease\n",
    "\n",
    "\n",
    "print(model.predict(imgs))\n"
   ]
  },
  {
   "cell_type": "markdown",
   "metadata": {},
   "source": [
    "## Review Trained model"
   ]
  },
  {
   "cell_type": "code",
   "execution_count": 6,
   "metadata": {
    "collapsed": true
   },
   "outputs": [],
   "source": [
    "classes = model.classes"
   ]
  },
  {
   "cell_type": "code",
   "execution_count": 14,
   "metadata": {},
   "outputs": [
    {
     "data": {
      "text/plain": [
       "['talking on the phone - left',\n",
       " 'drinking',\n",
       " 'reaching behind',\n",
       " 'talking on the phone - right',\n",
       " 'talking on the phone - left',\n",
       " 'texting - left',\n",
       " 'hair and makeup',\n",
       " 'talking on the phone - right',\n",
       " 'drinking',\n",
       " 'operating the radio']"
      ]
     },
     "execution_count": 14,
     "metadata": {},
     "output_type": "execute_result"
    }
   ],
   "source": [
    "# Get predictions for validation set\n",
    "pred = model.predict_gen(model.gen_valid)\n",
    "pred = [ c[1:] for c in pred]\n",
    "pred = map(int, pred)\n",
    "\n",
    "pred[:10]\n",
    "[cat[p] for p in pred[:10]]"
   ]
  },
  {
   "cell_type": "code",
   "execution_count": null,
   "metadata": {
    "collapsed": true
   },
   "outputs": [],
   "source": []
  },
  {
   "cell_type": "code",
   "execution_count": 15,
   "metadata": {},
   "outputs": [
    {
     "data": {
      "text/plain": [
       "['safe driving',\n",
       " 'safe driving',\n",
       " 'texting - right',\n",
       " 'texting - right',\n",
       " 'talking on the phone - right',\n",
       " 'talking on the phone - right',\n",
       " 'texting - left',\n",
       " 'texting - left',\n",
       " 'talking on the phone - left',\n",
       " 'talking on the phone - left']"
      ]
     },
     "execution_count": 15,
     "metadata": {},
     "output_type": "execute_result"
    }
   ],
   "source": [
    "# get labels\n",
    "labels = model.gen_valid.classes\n",
    "labels[:10]\n",
    "[cat[p] for p in labels[:10]]"
   ]
  },
  {
   "cell_type": "code",
   "execution_count": 10,
   "metadata": {},
   "outputs": [
    {
     "name": "stdout",
     "output_type": "stream",
     "text": [
      "[[0 1 0 0 0 0 1 0 0 0]\n",
      " [0 0 0 1 0 0 0 0 0 1]\n",
      " [0 1 0 0 0 0 0 1 0 0]\n",
      " [0 0 1 0 0 0 0 0 1 0]\n",
      " [0 0 0 1 1 0 0 0 0 0]\n",
      " [1 0 1 0 0 0 0 0 0 0]\n",
      " [0 0 0 0 0 1 0 0 0 1]\n",
      " [0 0 0 0 1 0 1 0 0 0]\n",
      " [0 0 0 0 0 0 0 1 0 0]\n",
      " [1 0 0 0 0 1 0 0 0 0]]\n"
     ]
    },
    {
     "data": {
      "image/png": "[encoded data removed]",
      "text/plain": [
       "<matplotlib.figure.Figure at 0x7f906fb3da90>"
      ]
     },
     "metadata": {},
     "output_type": "display_data"
    }
   ],
   "source": [
    "# plot confusion matrix\n",
    "\n",
    "from sklearn.metrics import confusion_matrix\n",
    "cm = confusion_matrix(labels, pred)\n",
    "\n",
    "plot_confusion_matrix(cm, classes)"
   ]
  },
  {
   "cell_type": "code",
   "execution_count": null,
   "metadata": {
    "collapsed": true
   },
   "outputs": [],
   "source": []
  },
  {
   "cell_type": "code",
   "execution_count": null,
   "metadata": {
    "collapsed": true
   },
   "outputs": [],
   "source": []
  },
  {
   "cell_type": "code",
   "execution_count": null,
   "metadata": {
    "collapsed": true
   },
   "outputs": [],
   "source": []
  },
  {
   "cell_type": "code",
   "execution_count": null,
   "metadata": {
    "collapsed": true
   },
   "outputs": [],
   "source": []
  },
  {
   "cell_type": "markdown",
   "metadata": {},
   "source": [
    "## Output Submission"
   ]
  },
  {
   "cell_type": "code",
   "execution_count": null,
   "metadata": {
    "collapsed": true
   },
   "outputs": [],
   "source": [
    "# Run model on test data and get predictions\n",
    "model.test()\n",
    "preds = model.test_preds\n"
   ]
  },
  {
   "cell_type": "code",
   "execution_count": null,
   "metadata": {
    "collapsed": true
   },
   "outputs": [],
   "source": [
    "preds[:5]\n"
   ]
  },
  {
   "cell_type": "code",
   "execution_count": null,
   "metadata": {
    "collapsed": true
   },
   "outputs": [],
   "source": [
    "classes = model.classes\n",
    "classes"
   ]
  },
  {
   "cell_type": "code",
   "execution_count": null,
   "metadata": {
    "collapsed": true
   },
   "outputs": [],
   "source": [
    "#isdog = preds[:,1]\n",
    "#isdog = isdog.clip(min=0.05, max=0.95)\n",
    "#isdog[:5]"
   ]
  },
  {
   "cell_type": "code",
   "execution_count": null,
   "metadata": {
    "collapsed": true
   },
   "outputs": [],
   "source": [
    "fnames = np.array(model.gen_test.filenames)\n",
    "\n",
    "#strip category folder\n",
    "fnames = np.array([f[f.find('/')+1:] for f in fnames])\n"
   ]
  },
  {
   "cell_type": "code",
   "execution_count": null,
   "metadata": {
    "collapsed": true
   },
   "outputs": [],
   "source": [
    "fnames.shape"
   ]
  },
  {
   "cell_type": "code",
   "execution_count": null,
   "metadata": {
    "collapsed": true,
    "scrolled": false
   },
   "outputs": [],
   "source": [
    "subm = pd.DataFrame(preds, columns=classes) #Create dataframe with test results\n",
    "subm.insert(0,\"img\",fnames) # insert filenames to the first column\n",
    "subm.head()"
   ]
  },
  {
   "cell_type": "code",
   "execution_count": null,
   "metadata": {
    "collapsed": true
   },
   "outputs": [],
   "source": [
    "subm.to_csv(fname_submission, index=False)"
   ]
  },
  {
   "cell_type": "markdown",
   "metadata": {},
   "source": [
    "imgs = next(batches_test)\n",
    "\n",
    "n = 4\n",
    "imgs = imgs[:4]\n",
    "labels = labels[:4]\n",
    "plots(imgs, titles=labels) #Use utily.py plot function for ease\n",
    "\n",
    "\n",
    "print(model.predict(imgs))\n"
   ]
  }
 ],
 "metadata": {
  "kernelspec": {
   "display_name": "Python 2",
   "language": "python",
   "name": "python2"
  },
  "language_info": {
   "codemirror_mode": {
    "name": "ipython",
    "version": 2
   },
   "file_extension": ".py",
   "mimetype": "text/x-python",
   "name": "python",
   "nbconvert_exporter": "python",
   "pygments_lexer": "ipython2",
   "version": "2.7.13"
  }
 },
 "nbformat": 4,
 "nbformat_minor": 2
}
